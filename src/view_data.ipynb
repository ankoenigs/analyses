{
 "cells": [
  {
   "cell_type": "code",
   "execution_count": null,
   "id": "b67d58cc-d736-4108-955d-a6bb69d75ae8",
   "metadata": {},
   "outputs": [],
   "source": [
    "import inspect_results as ir"
   ]
  },
  {
   "cell_type": "code",
   "execution_count": null,
   "id": "25f1af70-95d4-4f1d-8f73-36cef877cd6e",
   "metadata": {},
   "outputs": [],
   "source": [
    "data = ir.read_file()\n",
    "split_data = ir.split_file(data)"
   ]
  },
  {
   "cell_type": "code",
   "execution_count": null,
   "id": "96baafc2-76ba-4142-b1b6-072e9a7eb0c8",
   "metadata": {},
   "outputs": [],
   "source": [
    "split_data[0]"
   ]
  },
  {
   "cell_type": "code",
   "execution_count": null,
   "id": "810853cb-b054-424c-a5bb-49e650b0c0cc",
   "metadata": {},
   "outputs": [],
   "source": [
    "split_data[1]"
   ]
  },
  {
   "cell_type": "code",
   "execution_count": null,
   "id": "1bddc45d-5125-4ab3-bf43-4d8786063715",
   "metadata": {},
   "outputs": [],
   "source": [
    "split_data[2]"
   ]
  },
  {
   "cell_type": "code",
   "execution_count": null,
   "id": "70d9bd41-0c0b-47ed-8f1b-bc166a9ede23",
   "metadata": {},
   "outputs": [],
   "source": [
    "split_data[3]"
   ]
  },
  {
   "cell_type": "code",
   "execution_count": null,
   "id": "64db7b2c-5daf-47a1-9737-aa917762b1f2",
   "metadata": {},
   "outputs": [],
   "source": [
    "split_data[4]"
   ]
  }
 ],
 "metadata": {
  "kernelspec": {
   "display_name": "Python 3 (ipykernel)",
   "language": "python",
   "name": "python3"
  },
  "language_info": {
   "codemirror_mode": {
    "name": "ipython",
    "version": 3
   },
   "file_extension": ".py",
   "mimetype": "text/x-python",
   "name": "python",
   "nbconvert_exporter": "python",
   "pygments_lexer": "ipython3",
   "version": "3.12.9"
  }
 },
 "nbformat": 4,
 "nbformat_minor": 5
}
